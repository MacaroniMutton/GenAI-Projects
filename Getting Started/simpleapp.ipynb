{
 "cells": [
  {
   "cell_type": "markdown",
   "metadata": {},
   "source": [
    "## Simple GenAI App using LangChain"
   ]
  },
  {
   "cell_type": "code",
   "execution_count": 46,
   "metadata": {},
   "outputs": [],
   "source": [
    "import os\n",
    "from dotenv import load_dotenv\n",
    "load_dotenv()\n",
    "\n",
    "os.environ[\"OPENAI_API_KEY\"] = os.getenv(\"OPENAI_API_KEY\")\n",
    "# Langsmith Tracking\n",
    "os.environ[\"LANGCHAIN_API_KEY\"] = os.getenv(\"LANGCHAIN_API_KEY\")\n",
    "os.environ[\"LANGCHAIN_TRACING_V2\"] = \"true\"\n",
    "os.environ[\"LANGCHAIN_PROJECT\"] = os.getenv(\"LANGCHAIN_PROJECT\")"
   ]
  },
  {
   "cell_type": "code",
   "execution_count": 106,
   "metadata": {},
   "outputs": [
    {
     "data": {
      "text/plain": [
       "<langchain_community.document_loaders.web_base.WebBaseLoader at 0x204150ea800>"
      ]
     },
     "execution_count": 106,
     "metadata": {},
     "output_type": "execute_result"
    }
   ],
   "source": [
    "from langchain_community.document_loaders import WebBaseLoader\n",
    "import bs4\n",
    "\n",
    "loader = WebBaseLoader(\"https://medium.com/@manan.kher22/the-highs-and-lows-of-building-a-computer-engineering-project-12ba7a07bb36\")\n",
    "loader"
   ]
  },
  {
   "cell_type": "code",
   "execution_count": 107,
   "metadata": {},
   "outputs": [
    {
     "data": {
      "text/plain": [
       "'The Highs and Lows of Building a Computer Engineering Project | by Manan Kher | MediumOpen in appSign upSign inWriteSign upSign inThe Highs and Lows of Building a Computer Engineering ProjectManan Kher·Follow8 min read·May 15, 2024--1ListenShareHave you ever built a project for your computer engineering major? If yes, how was your experience? It must have likely been a thrilling journey, filled with emotions of joy, excitement and satisfaction, as well as pain and regret, and most importantly, those golden ‘eureka moments’ or the ‘light bulb moments’. My name is Manan Kher, a sophomore doing my major in Computer Engineering, and I was recently blessed with the opportunity to build my first full-fledged project during our 4th semester. I am delighted to share my journey with you, and I would like to highlight the learnings that I have obtained from the mistakes and victories (mostly mistakes) while making the project.A few weeks after the start of 4th semester, we received an email from the college informing us that a mini project was to be built, worth 2 credits. It was a group project, with a maximum of 3 members per group. I formed a group with 2 of my good friends, Anushka and Atharva. We registered our team, and the next course of action was to decide a topic of our project that would be innovative and out of the box, and provide us the chance to showcase our technical proficiency. While brainstorming ideas, Atharva came up with a fresh and highly advanced suggestion. He suggested that we could implement the Bayesian Search Theory for a practical purpose such as searching for a lost object in a water body. We finalized this topic and decided to select a specific use case of searching for a plane crash site in an ocean. We explained our ideas on how we could execute this project to a college faculty, who then agreed to become the mentor for our project.We conducted in-depth research on the Bayesian Search Theory, reading various research papers and articles. We understood the basic concept, which involved considering a particular search area from the last known position (LKP) of the flight, and then dividing this search area into a grid of cells. These cells denote smaller search spaces, and the idea is to explore one cell at a time. Then, using various parameters like the flight route, its LKP, and geographic data, we would assign probability values to each cell, indicating the likelihood of the crash site being present in that cell. Each cell would actually contain 2 values, one value indicating the probability of the required object being present in it, and one value representing the probability of finding that object, given that it is present in the cell. Understanding theorems like the Law of Total Probability and Bayes Theorem was crucial before implementation. As we read an article on ‘A Bayesian Approach to Finding Lost Objects’ we realized that Bayes Theorem helps to dynamically update these probabilities as the search progresses, which optimizes the search more and more as the cells get explored.Updating the probability of explored cell where the object was not found:Updating the probability of all other cells:Now that we had the basic concepts down, we began to work on the implementation. Our project highlight would be a simulation, which would consist of a red searcher square exploring the probability grid, and taking the optimal search path as the probability values keep updating. To do this, we would require a module for making games. So we decided to go with Pygame, a python module for making games, which would allow for creating the simulation easily. We planned to make a website which would show this simulation, and before the simulation is displayed, the user would be prompted to input relevant flight details. The entire process would be made user-friendly by integrating the world map in our website, which the user could use to visualize these details. Then all the data would be fed into our simulation to create the probability grid, and then the user could run the simulation to visualize the search process.We divided the work amongst ourselves and started working on the tasks allotted to each of us. In retrospect, we should have made a project plan from the very beginning, and set deadlines for ourselves, since it would have boosted our productivity. In the first few weeks, we did not have our goals set, and due to this, we weren’t able to progress much. Our mentor noticed this later and forced us to make a timeline for ourselves. The additional pressure imposed via deadlines really helped us meet our goals on time.Anushka took charge of developing the website’s frontend. The website starts with a home page with login and registration functionality. After authentication, users are redirected to the services page, where they can input the source and destination city of a flight. Users then input the last known position (LKP) of the flight. This page also displays a world map using LeafletJS, showing the source city, destination city, LKP as markers, and the flight path. Anushka faced challenges with integrating the map and ensuring that the markers and flight path were accurately displayed. Debugging the map integration took considerable time, but her persistence paid off.Our website’s home pageThe Service PageAfter entering the relevant dataAtharva focused on the automation and core algorithms. The website uses Selenium in the background to automate downloading ocean depth data from the GEBCO website. Meanwhile, the user is redirected to a page where they can input coordinates of any recovered bodies or debris, as well as their recovery time. If provided, an algorithm backtracks the recovered bodies, plotting a reverse drift trajectory path and a distribution using Scikit-learn’s unsupervised machine learning model, Kernel Density Estimation. Atharva encountered difficulties with Selenium, particularly with handling dynamic content and ensuring reliable downloads, but he managed to resolve these issues through extensive testing and adjustments. Moreover, developing the algorithm for backtracking the recovered bodies was no easy task. We had to find APIs which provided the speed and direction of ocean currents and winds. After obtaining this data, Atharva managed to write an algorithm which backtracks the body with steps of 1 hour, using the speed and direction of the current and wind vectors.Reporting recovery of any debris/bodyPlotting of Reverse Drift Trajectory and Reverse Drift DistributionI (Manan) worked on the simulation and the backend. The simulation, made using Pygame, is embedded in the web browser using Pygbag. The simulation first shows the final probability distribution created using four distributions:A uniform circular distribution with LKP as the center.An elliptical Gaussian distribution oriented along the flight path.A reverse drift distribution.An ocean depth distribution used mainly for the updation process.Different Distributions used for getting the final distributionIn the simulation, after displaying this probability distribution grid, the searcher takes the optimal searching path using the A* search algorithm. We opted for the A* search algorithm due to its efficiency and effectiveness in finding the optimal path. Unlike exhaustive search algorithms, A* prioritizes paths based on a heuristic function, reducing search time and computational resources. Its ability to incorporate domain-specific knowledge, such as ocean currents and wind patterns, enhances performance and adaptability to real-world scenarios. The probability values are then updated using Bayes Law. Users can download a CSV file containing the optimal path, with points denoted by their coordinates and the probability of each point.Final Distribution displayed in the simulationThe downloadable CSV fileDeveloping the simulation was challenging due to the complexity of integrating multiple probability distributions and ensuring accurate updates during the search process. Implementing the A* search algorithm and integrating it with Bayesian updates required careful coordination and debugging.Moreover, I was in charge of handling the backend, so I made sure to monitor the progress of each of my team members, and integrate all the functionalities into our main product. For the purpose of backend development, I opted to use Django, since I had extensive experience with it. Despite my knowledge, there were many obstacles that I faced while integrating everything together. But I felt really passionate about this project, and it motivated me not to give up. I was always ready to learn new things, and this sole mentality of showing interest in learning was what allowed me to push my boundaries and give my everything to make this project perfect.This is a video which shows the demonstration of our project, along with the backend part of automated scraping from the GEBCO website (Note that this won’t be made visible to the actual user)Challenges and Learnings:Integrating Multiple Technologies:Using technologies like Django, Pygame, LeafletJS, Selenium, and Scikit-learn, and combining them together into one final product was the most difficult challenge. Each tool had its learning curve and integration challenges. For instance, embedding the Pygame simulation in the web browser using Pygbag took considerable time and experimentation.Algorithmic Complexity:Understanding and implementing Bayesian Search Theory and the A* search algorithm was intellectually demanding. We spent numerous hours reading research papers and troubleshooting our implementations.User Experience:Ensuring a seamless and user-friendly experience was crucial. Anushka’s efforts in creating an intuitive interface and handling map visualizations were key to making the project accessible.Data Handling and Automation:Automating data downloads and handling dynamic content on the GEBCO website with Selenium posed significant challenges. Atharva’s persistence in resolving these issues was commendable.In conclusion, completing this project was a rollercoaster of emotions and a fantastic learning experience. From understanding complex theories to implementing a functional simulation, we faced numerous challenges but gained invaluable knowledge and skills. As Thomas Edison famously said, “I have not failed. I’ve just found 10,000 ways that won’t work”. My advice to fellow students is to wholeheartedly embrace both the highs and lows of your projects, as each step teaches you something new. Remember, every mistake is a stepping stone to success.Happy coding!Computer EngineeringInnovationBayesian StatisticsAlgorithmsMachine Learning----1FollowWritten by Manan Kher1 FollowerFollowHelpStatusAboutCareersPressBlogPrivacyTermsText to speechTeams\\n\\n\\n\\n\\n\\n\\n\\n\\n\\n\\n\\n\\n\\n\\n\\n\\n\\n\\n\\n\\n\\n\\n\\n\\n\\n\\n\\n'"
      ]
     },
     "execution_count": 107,
     "metadata": {},
     "output_type": "execute_result"
    }
   ],
   "source": [
    "docs = loader.load()\n",
    "docs[0].page_content"
   ]
  },
  {
   "cell_type": "code",
   "execution_count": 108,
   "metadata": {},
   "outputs": [
    {
     "data": {
      "text/plain": [
       "<langchain_text_splitters.character.RecursiveCharacterTextSplitter at 0x204150eb6d0>"
      ]
     },
     "execution_count": 108,
     "metadata": {},
     "output_type": "execute_result"
    }
   ],
   "source": [
    "from langchain_text_splitters import RecursiveCharacterTextSplitter\n",
    "\n",
    "text_splitter = RecursiveCharacterTextSplitter(chunk_size=400, chunk_overlap=80)\n",
    "text_splitter"
   ]
  },
  {
   "cell_type": "code",
   "execution_count": 109,
   "metadata": {},
   "outputs": [
    {
     "data": {
      "text/plain": [
       "[Document(metadata={'source': 'https://medium.com/@manan.kher22/the-highs-and-lows-of-building-a-computer-engineering-project-12ba7a07bb36', 'title': 'The Highs and Lows of Building a Computer Engineering Project | by Manan Kher | Medium', 'description': 'Have you ever built a project for your computer engineering major? If yes, how was your experience? It must have likely been a thrilling journey, filled with emotions of joy, excitement and…', 'language': 'en'}, page_content='The Highs and Lows of Building a Computer Engineering Project | by Manan Kher | MediumOpen in appSign upSign inWriteSign upSign inThe Highs and Lows of Building a Computer Engineering ProjectManan Kher·Follow8 min read·May 15, 2024--1ListenShareHave you ever built a project for your computer engineering major? If yes, how was your experience? It must have likely been a thrilling journey, filled'),\n",
       " Document(metadata={'source': 'https://medium.com/@manan.kher22/the-highs-and-lows-of-building-a-computer-engineering-project-12ba7a07bb36', 'title': 'The Highs and Lows of Building a Computer Engineering Project | by Manan Kher | Medium', 'description': 'Have you ever built a project for your computer engineering major? If yes, how was your experience? It must have likely been a thrilling journey, filled with emotions of joy, excitement and…', 'language': 'en'}, page_content='how was your experience? It must have likely been a thrilling journey, filled with emotions of joy, excitement and satisfaction, as well as pain and regret, and most importantly, those golden ‘eureka moments’ or the ‘light bulb moments’. My name is Manan Kher, a sophomore doing my major in Computer Engineering, and I was recently blessed with the opportunity to build my first full-fledged project'),\n",
       " Document(metadata={'source': 'https://medium.com/@manan.kher22/the-highs-and-lows-of-building-a-computer-engineering-project-12ba7a07bb36', 'title': 'The Highs and Lows of Building a Computer Engineering Project | by Manan Kher | Medium', 'description': 'Have you ever built a project for your computer engineering major? If yes, how was your experience? It must have likely been a thrilling journey, filled with emotions of joy, excitement and…', 'language': 'en'}, page_content='recently blessed with the opportunity to build my first full-fledged project during our 4th semester. I am delighted to share my journey with you, and I would like to highlight the learnings that I have obtained from the mistakes and victories (mostly mistakes) while making the project.A few weeks after the start of 4th semester, we received an email from the college informing us that a mini'),\n",
       " Document(metadata={'source': 'https://medium.com/@manan.kher22/the-highs-and-lows-of-building-a-computer-engineering-project-12ba7a07bb36', 'title': 'The Highs and Lows of Building a Computer Engineering Project | by Manan Kher | Medium', 'description': 'Have you ever built a project for your computer engineering major? If yes, how was your experience? It must have likely been a thrilling journey, filled with emotions of joy, excitement and…', 'language': 'en'}, page_content='of 4th semester, we received an email from the college informing us that a mini project was to be built, worth 2 credits. It was a group project, with a maximum of 3 members per group. I formed a group with 2 of my good friends, Anushka and Atharva. We registered our team, and the next course of action was to decide a topic of our project that would be innovative and out of the box, and provide'),\n",
       " Document(metadata={'source': 'https://medium.com/@manan.kher22/the-highs-and-lows-of-building-a-computer-engineering-project-12ba7a07bb36', 'title': 'The Highs and Lows of Building a Computer Engineering Project | by Manan Kher | Medium', 'description': 'Have you ever built a project for your computer engineering major? If yes, how was your experience? It must have likely been a thrilling journey, filled with emotions of joy, excitement and…', 'language': 'en'}, page_content='a topic of our project that would be innovative and out of the box, and provide us the chance to showcase our technical proficiency. While brainstorming ideas, Atharva came up with a fresh and highly advanced suggestion. He suggested that we could implement the Bayesian Search Theory for a practical purpose such as searching for a lost object in a water body. We finalized this topic and decided'),\n",
       " Document(metadata={'source': 'https://medium.com/@manan.kher22/the-highs-and-lows-of-building-a-computer-engineering-project-12ba7a07bb36', 'title': 'The Highs and Lows of Building a Computer Engineering Project | by Manan Kher | Medium', 'description': 'Have you ever built a project for your computer engineering major? If yes, how was your experience? It must have likely been a thrilling journey, filled with emotions of joy, excitement and…', 'language': 'en'}, page_content='for a lost object in a water body. We finalized this topic and decided to select a specific use case of searching for a plane crash site in an ocean. We explained our ideas on how we could execute this project to a college faculty, who then agreed to become the mentor for our project.We conducted in-depth research on the Bayesian Search Theory, reading various research papers and articles. We'),\n",
       " Document(metadata={'source': 'https://medium.com/@manan.kher22/the-highs-and-lows-of-building-a-computer-engineering-project-12ba7a07bb36', 'title': 'The Highs and Lows of Building a Computer Engineering Project | by Manan Kher | Medium', 'description': 'Have you ever built a project for your computer engineering major? If yes, how was your experience? It must have likely been a thrilling journey, filled with emotions of joy, excitement and…', 'language': 'en'}, page_content='on the Bayesian Search Theory, reading various research papers and articles. We understood the basic concept, which involved considering a particular search area from the last known position (LKP) of the flight, and then dividing this search area into a grid of cells. These cells denote smaller search spaces, and the idea is to explore one cell at a time. Then, using various parameters like the'),\n",
       " Document(metadata={'source': 'https://medium.com/@manan.kher22/the-highs-and-lows-of-building-a-computer-engineering-project-12ba7a07bb36', 'title': 'The Highs and Lows of Building a Computer Engineering Project | by Manan Kher | Medium', 'description': 'Have you ever built a project for your computer engineering major? If yes, how was your experience? It must have likely been a thrilling journey, filled with emotions of joy, excitement and…', 'language': 'en'}, page_content='idea is to explore one cell at a time. Then, using various parameters like the flight route, its LKP, and geographic data, we would assign probability values to each cell, indicating the likelihood of the crash site being present in that cell. Each cell would actually contain 2 values, one value indicating the probability of the required object being present in it, and one value representing the'),\n",
       " Document(metadata={'source': 'https://medium.com/@manan.kher22/the-highs-and-lows-of-building-a-computer-engineering-project-12ba7a07bb36', 'title': 'The Highs and Lows of Building a Computer Engineering Project | by Manan Kher | Medium', 'description': 'Have you ever built a project for your computer engineering major? If yes, how was your experience? It must have likely been a thrilling journey, filled with emotions of joy, excitement and…', 'language': 'en'}, page_content='of the required object being present in it, and one value representing the probability of finding that object, given that it is present in the cell. Understanding theorems like the Law of Total Probability and Bayes Theorem was crucial before implementation. As we read an article on ‘A Bayesian Approach to Finding Lost Objects’ we realized that Bayes Theorem helps to dynamically update these'),\n",
       " Document(metadata={'source': 'https://medium.com/@manan.kher22/the-highs-and-lows-of-building-a-computer-engineering-project-12ba7a07bb36', 'title': 'The Highs and Lows of Building a Computer Engineering Project | by Manan Kher | Medium', 'description': 'Have you ever built a project for your computer engineering major? If yes, how was your experience? It must have likely been a thrilling journey, filled with emotions of joy, excitement and…', 'language': 'en'}, page_content='Lost Objects’ we realized that Bayes Theorem helps to dynamically update these probabilities as the search progresses, which optimizes the search more and more as the cells get explored.Updating the probability of explored cell where the object was not found:Updating the probability of all other cells:Now that we had the basic concepts down, we began to work on the implementation. Our project'),\n",
       " Document(metadata={'source': 'https://medium.com/@manan.kher22/the-highs-and-lows-of-building-a-computer-engineering-project-12ba7a07bb36', 'title': 'The Highs and Lows of Building a Computer Engineering Project | by Manan Kher | Medium', 'description': 'Have you ever built a project for your computer engineering major? If yes, how was your experience? It must have likely been a thrilling journey, filled with emotions of joy, excitement and…', 'language': 'en'}, page_content='the basic concepts down, we began to work on the implementation. Our project highlight would be a simulation, which would consist of a red searcher square exploring the probability grid, and taking the optimal search path as the probability values keep updating. To do this, we would require a module for making games. So we decided to go with Pygame, a python module for making games, which would'),\n",
       " Document(metadata={'source': 'https://medium.com/@manan.kher22/the-highs-and-lows-of-building-a-computer-engineering-project-12ba7a07bb36', 'title': 'The Highs and Lows of Building a Computer Engineering Project | by Manan Kher | Medium', 'description': 'Have you ever built a project for your computer engineering major? If yes, how was your experience? It must have likely been a thrilling journey, filled with emotions of joy, excitement and…', 'language': 'en'}, page_content='So we decided to go with Pygame, a python module for making games, which would allow for creating the simulation easily. We planned to make a website which would show this simulation, and before the simulation is displayed, the user would be prompted to input relevant flight details. The entire process would be made user-friendly by integrating the world map in our website, which the user could'),\n",
       " Document(metadata={'source': 'https://medium.com/@manan.kher22/the-highs-and-lows-of-building-a-computer-engineering-project-12ba7a07bb36', 'title': 'The Highs and Lows of Building a Computer Engineering Project | by Manan Kher | Medium', 'description': 'Have you ever built a project for your computer engineering major? If yes, how was your experience? It must have likely been a thrilling journey, filled with emotions of joy, excitement and…', 'language': 'en'}, page_content='user-friendly by integrating the world map in our website, which the user could use to visualize these details. Then all the data would be fed into our simulation to create the probability grid, and then the user could run the simulation to visualize the search process.We divided the work amongst ourselves and started working on the tasks allotted to each of us. In retrospect, we should have made'),\n",
       " Document(metadata={'source': 'https://medium.com/@manan.kher22/the-highs-and-lows-of-building-a-computer-engineering-project-12ba7a07bb36', 'title': 'The Highs and Lows of Building a Computer Engineering Project | by Manan Kher | Medium', 'description': 'Have you ever built a project for your computer engineering major? If yes, how was your experience? It must have likely been a thrilling journey, filled with emotions of joy, excitement and…', 'language': 'en'}, page_content='working on the tasks allotted to each of us. In retrospect, we should have made a project plan from the very beginning, and set deadlines for ourselves, since it would have boosted our productivity. In the first few weeks, we did not have our goals set, and due to this, we weren’t able to progress much. Our mentor noticed this later and forced us to make a timeline for ourselves. The additional'),\n",
       " Document(metadata={'source': 'https://medium.com/@manan.kher22/the-highs-and-lows-of-building-a-computer-engineering-project-12ba7a07bb36', 'title': 'The Highs and Lows of Building a Computer Engineering Project | by Manan Kher | Medium', 'description': 'Have you ever built a project for your computer engineering major? If yes, how was your experience? It must have likely been a thrilling journey, filled with emotions of joy, excitement and…', 'language': 'en'}, page_content='this later and forced us to make a timeline for ourselves. The additional pressure imposed via deadlines really helped us meet our goals on time.Anushka took charge of developing the website’s frontend. The website starts with a home page with login and registration functionality. After authentication, users are redirected to the services page, where they can input the source and destination city'),\n",
       " Document(metadata={'source': 'https://medium.com/@manan.kher22/the-highs-and-lows-of-building-a-computer-engineering-project-12ba7a07bb36', 'title': 'The Highs and Lows of Building a Computer Engineering Project | by Manan Kher | Medium', 'description': 'Have you ever built a project for your computer engineering major? If yes, how was your experience? It must have likely been a thrilling journey, filled with emotions of joy, excitement and…', 'language': 'en'}, page_content='to the services page, where they can input the source and destination city of a flight. Users then input the last known position (LKP) of the flight. This page also displays a world map using LeafletJS, showing the source city, destination city, LKP as markers, and the flight path. Anushka faced challenges with integrating the map and ensuring that the markers and flight path were accurately'),\n",
       " Document(metadata={'source': 'https://medium.com/@manan.kher22/the-highs-and-lows-of-building-a-computer-engineering-project-12ba7a07bb36', 'title': 'The Highs and Lows of Building a Computer Engineering Project | by Manan Kher | Medium', 'description': 'Have you ever built a project for your computer engineering major? If yes, how was your experience? It must have likely been a thrilling journey, filled with emotions of joy, excitement and…', 'language': 'en'}, page_content='the map and ensuring that the markers and flight path were accurately displayed. Debugging the map integration took considerable time, but her persistence paid off.Our website’s home pageThe Service PageAfter entering the relevant dataAtharva focused on the automation and core algorithms. The website uses Selenium in the background to automate downloading ocean depth data from the GEBCO website.'),\n",
       " Document(metadata={'source': 'https://medium.com/@manan.kher22/the-highs-and-lows-of-building-a-computer-engineering-project-12ba7a07bb36', 'title': 'The Highs and Lows of Building a Computer Engineering Project | by Manan Kher | Medium', 'description': 'Have you ever built a project for your computer engineering major? If yes, how was your experience? It must have likely been a thrilling journey, filled with emotions of joy, excitement and…', 'language': 'en'}, page_content='the background to automate downloading ocean depth data from the GEBCO website. Meanwhile, the user is redirected to a page where they can input coordinates of any recovered bodies or debris, as well as their recovery time. If provided, an algorithm backtracks the recovered bodies, plotting a reverse drift trajectory path and a distribution using Scikit-learn’s unsupervised machine learning'),\n",
       " Document(metadata={'source': 'https://medium.com/@manan.kher22/the-highs-and-lows-of-building-a-computer-engineering-project-12ba7a07bb36', 'title': 'The Highs and Lows of Building a Computer Engineering Project | by Manan Kher | Medium', 'description': 'Have you ever built a project for your computer engineering major? If yes, how was your experience? It must have likely been a thrilling journey, filled with emotions of joy, excitement and…', 'language': 'en'}, page_content='path and a distribution using Scikit-learn’s unsupervised machine learning model, Kernel Density Estimation. Atharva encountered difficulties with Selenium, particularly with handling dynamic content and ensuring reliable downloads, but he managed to resolve these issues through extensive testing and adjustments. Moreover, developing the algorithm for backtracking the recovered bodies was no easy'),\n",
       " Document(metadata={'source': 'https://medium.com/@manan.kher22/the-highs-and-lows-of-building-a-computer-engineering-project-12ba7a07bb36', 'title': 'The Highs and Lows of Building a Computer Engineering Project | by Manan Kher | Medium', 'description': 'Have you ever built a project for your computer engineering major? If yes, how was your experience? It must have likely been a thrilling journey, filled with emotions of joy, excitement and…', 'language': 'en'}, page_content='developing the algorithm for backtracking the recovered bodies was no easy task. We had to find APIs which provided the speed and direction of ocean currents and winds. After obtaining this data, Atharva managed to write an algorithm which backtracks the body with steps of 1 hour, using the speed and direction of the current and wind vectors.Reporting recovery of any debris/bodyPlotting of'),\n",
       " Document(metadata={'source': 'https://medium.com/@manan.kher22/the-highs-and-lows-of-building-a-computer-engineering-project-12ba7a07bb36', 'title': 'The Highs and Lows of Building a Computer Engineering Project | by Manan Kher | Medium', 'description': 'Have you ever built a project for your computer engineering major? If yes, how was your experience? It must have likely been a thrilling journey, filled with emotions of joy, excitement and…', 'language': 'en'}, page_content='the current and wind vectors.Reporting recovery of any debris/bodyPlotting of Reverse Drift Trajectory and Reverse Drift DistributionI (Manan) worked on the simulation and the backend. The simulation, made using Pygame, is embedded in the web browser using Pygbag. The simulation first shows the final probability distribution created using four distributions:A uniform circular distribution with'),\n",
       " Document(metadata={'source': 'https://medium.com/@manan.kher22/the-highs-and-lows-of-building-a-computer-engineering-project-12ba7a07bb36', 'title': 'The Highs and Lows of Building a Computer Engineering Project | by Manan Kher | Medium', 'description': 'Have you ever built a project for your computer engineering major? If yes, how was your experience? It must have likely been a thrilling journey, filled with emotions of joy, excitement and…', 'language': 'en'}, page_content='created using four distributions:A uniform circular distribution with LKP as the center.An elliptical Gaussian distribution oriented along the flight path.A reverse drift distribution.An ocean depth distribution used mainly for the updation process.Different Distributions used for getting the final distributionIn the simulation, after displaying this probability distribution grid, the searcher'),\n",
       " Document(metadata={'source': 'https://medium.com/@manan.kher22/the-highs-and-lows-of-building-a-computer-engineering-project-12ba7a07bb36', 'title': 'The Highs and Lows of Building a Computer Engineering Project | by Manan Kher | Medium', 'description': 'Have you ever built a project for your computer engineering major? If yes, how was your experience? It must have likely been a thrilling journey, filled with emotions of joy, excitement and…', 'language': 'en'}, page_content='simulation, after displaying this probability distribution grid, the searcher takes the optimal searching path using the A* search algorithm. We opted for the A* search algorithm due to its efficiency and effectiveness in finding the optimal path. Unlike exhaustive search algorithms, A* prioritizes paths based on a heuristic function, reducing search time and computational resources. Its ability'),\n",
       " Document(metadata={'source': 'https://medium.com/@manan.kher22/the-highs-and-lows-of-building-a-computer-engineering-project-12ba7a07bb36', 'title': 'The Highs and Lows of Building a Computer Engineering Project | by Manan Kher | Medium', 'description': 'Have you ever built a project for your computer engineering major? If yes, how was your experience? It must have likely been a thrilling journey, filled with emotions of joy, excitement and…', 'language': 'en'}, page_content='function, reducing search time and computational resources. Its ability to incorporate domain-specific knowledge, such as ocean currents and wind patterns, enhances performance and adaptability to real-world scenarios. The probability values are then updated using Bayes Law. Users can download a CSV file containing the optimal path, with points denoted by their coordinates and the probability of'),\n",
       " Document(metadata={'source': 'https://medium.com/@manan.kher22/the-highs-and-lows-of-building-a-computer-engineering-project-12ba7a07bb36', 'title': 'The Highs and Lows of Building a Computer Engineering Project | by Manan Kher | Medium', 'description': 'Have you ever built a project for your computer engineering major? If yes, how was your experience? It must have likely been a thrilling journey, filled with emotions of joy, excitement and…', 'language': 'en'}, page_content='optimal path, with points denoted by their coordinates and the probability of each point.Final Distribution displayed in the simulationThe downloadable CSV fileDeveloping the simulation was challenging due to the complexity of integrating multiple probability distributions and ensuring accurate updates during the search process. Implementing the A* search algorithm and integrating it with'),\n",
       " Document(metadata={'source': 'https://medium.com/@manan.kher22/the-highs-and-lows-of-building-a-computer-engineering-project-12ba7a07bb36', 'title': 'The Highs and Lows of Building a Computer Engineering Project | by Manan Kher | Medium', 'description': 'Have you ever built a project for your computer engineering major? If yes, how was your experience? It must have likely been a thrilling journey, filled with emotions of joy, excitement and…', 'language': 'en'}, page_content='search process. Implementing the A* search algorithm and integrating it with Bayesian updates required careful coordination and debugging.Moreover, I was in charge of handling the backend, so I made sure to monitor the progress of each of my team members, and integrate all the functionalities into our main product. For the purpose of backend development, I opted to use Django, since I had'),\n",
       " Document(metadata={'source': 'https://medium.com/@manan.kher22/the-highs-and-lows-of-building-a-computer-engineering-project-12ba7a07bb36', 'title': 'The Highs and Lows of Building a Computer Engineering Project | by Manan Kher | Medium', 'description': 'Have you ever built a project for your computer engineering major? If yes, how was your experience? It must have likely been a thrilling journey, filled with emotions of joy, excitement and…', 'language': 'en'}, page_content='For the purpose of backend development, I opted to use Django, since I had extensive experience with it. Despite my knowledge, there were many obstacles that I faced while integrating everything together. But I felt really passionate about this project, and it motivated me not to give up. I was always ready to learn new things, and this sole mentality of showing interest in learning was what'),\n",
       " Document(metadata={'source': 'https://medium.com/@manan.kher22/the-highs-and-lows-of-building-a-computer-engineering-project-12ba7a07bb36', 'title': 'The Highs and Lows of Building a Computer Engineering Project | by Manan Kher | Medium', 'description': 'Have you ever built a project for your computer engineering major? If yes, how was your experience? It must have likely been a thrilling journey, filled with emotions of joy, excitement and…', 'language': 'en'}, page_content='new things, and this sole mentality of showing interest in learning was what allowed me to push my boundaries and give my everything to make this project perfect.This is a video which shows the demonstration of our project, along with the backend part of automated scraping from the GEBCO website (Note that this won’t be made visible to the actual user)Challenges and Learnings:Integrating Multiple'),\n",
       " Document(metadata={'source': 'https://medium.com/@manan.kher22/the-highs-and-lows-of-building-a-computer-engineering-project-12ba7a07bb36', 'title': 'The Highs and Lows of Building a Computer Engineering Project | by Manan Kher | Medium', 'description': 'Have you ever built a project for your computer engineering major? If yes, how was your experience? It must have likely been a thrilling journey, filled with emotions of joy, excitement and…', 'language': 'en'}, page_content='made visible to the actual user)Challenges and Learnings:Integrating Multiple Technologies:Using technologies like Django, Pygame, LeafletJS, Selenium, and Scikit-learn, and combining them together into one final product was the most difficult challenge. Each tool had its learning curve and integration challenges. For instance, embedding the Pygame simulation in the web browser using Pygbag took'),\n",
       " Document(metadata={'source': 'https://medium.com/@manan.kher22/the-highs-and-lows-of-building-a-computer-engineering-project-12ba7a07bb36', 'title': 'The Highs and Lows of Building a Computer Engineering Project | by Manan Kher | Medium', 'description': 'Have you ever built a project for your computer engineering major? If yes, how was your experience? It must have likely been a thrilling journey, filled with emotions of joy, excitement and…', 'language': 'en'}, page_content='instance, embedding the Pygame simulation in the web browser using Pygbag took considerable time and experimentation.Algorithmic Complexity:Understanding and implementing Bayesian Search Theory and the A* search algorithm was intellectually demanding. We spent numerous hours reading research papers and troubleshooting our implementations.User Experience:Ensuring a seamless and user-friendly'),\n",
       " Document(metadata={'source': 'https://medium.com/@manan.kher22/the-highs-and-lows-of-building-a-computer-engineering-project-12ba7a07bb36', 'title': 'The Highs and Lows of Building a Computer Engineering Project | by Manan Kher | Medium', 'description': 'Have you ever built a project for your computer engineering major? If yes, how was your experience? It must have likely been a thrilling journey, filled with emotions of joy, excitement and…', 'language': 'en'}, page_content='our implementations.User Experience:Ensuring a seamless and user-friendly experience was crucial. Anushka’s efforts in creating an intuitive interface and handling map visualizations were key to making the project accessible.Data Handling and Automation:Automating data downloads and handling dynamic content on the GEBCO website with Selenium posed significant challenges. Atharva’s persistence in'),\n",
       " Document(metadata={'source': 'https://medium.com/@manan.kher22/the-highs-and-lows-of-building-a-computer-engineering-project-12ba7a07bb36', 'title': 'The Highs and Lows of Building a Computer Engineering Project | by Manan Kher | Medium', 'description': 'Have you ever built a project for your computer engineering major? If yes, how was your experience? It must have likely been a thrilling journey, filled with emotions of joy, excitement and…', 'language': 'en'}, page_content='website with Selenium posed significant challenges. Atharva’s persistence in resolving these issues was commendable.In conclusion, completing this project was a rollercoaster of emotions and a fantastic learning experience. From understanding complex theories to implementing a functional simulation, we faced numerous challenges but gained invaluable knowledge and skills. As Thomas Edison famously'),\n",
       " Document(metadata={'source': 'https://medium.com/@manan.kher22/the-highs-and-lows-of-building-a-computer-engineering-project-12ba7a07bb36', 'title': 'The Highs and Lows of Building a Computer Engineering Project | by Manan Kher | Medium', 'description': 'Have you ever built a project for your computer engineering major? If yes, how was your experience? It must have likely been a thrilling journey, filled with emotions of joy, excitement and…', 'language': 'en'}, page_content='but gained invaluable knowledge and skills. As Thomas Edison famously said, “I have not failed. I’ve just found 10,000 ways that won’t work”. My advice to fellow students is to wholeheartedly embrace both the highs and lows of your projects, as each step teaches you something new. Remember, every mistake is a stepping stone to success.Happy coding!Computer EngineeringInnovationBayesian'),\n",
       " Document(metadata={'source': 'https://medium.com/@manan.kher22/the-highs-and-lows-of-building-a-computer-engineering-project-12ba7a07bb36', 'title': 'The Highs and Lows of Building a Computer Engineering Project | by Manan Kher | Medium', 'description': 'Have you ever built a project for your computer engineering major? If yes, how was your experience? It must have likely been a thrilling journey, filled with emotions of joy, excitement and…', 'language': 'en'}, page_content='a stepping stone to success.Happy coding!Computer EngineeringInnovationBayesian StatisticsAlgorithmsMachine Learning----1FollowWritten by Manan Kher1 FollowerFollowHelpStatusAboutCareersPressBlogPrivacyTermsText to speechTeams')]"
      ]
     },
     "execution_count": 109,
     "metadata": {},
     "output_type": "execute_result"
    }
   ],
   "source": [
    "final_docs = text_splitter.split_documents(docs)\n",
    "final_docs"
   ]
  },
  {
   "cell_type": "code",
   "execution_count": 110,
   "metadata": {},
   "outputs": [
    {
     "data": {
      "text/plain": [
       "34"
      ]
     },
     "execution_count": 110,
     "metadata": {},
     "output_type": "execute_result"
    }
   ],
   "source": [
    "len(final_docs)"
   ]
  },
  {
   "cell_type": "code",
   "execution_count": 111,
   "metadata": {},
   "outputs": [
    {
     "data": {
      "text/plain": [
       "OllamaEmbeddings(base_url='http://localhost:11434', model='llama3', embed_instruction='passage: ', query_instruction='query: ', mirostat=None, mirostat_eta=None, mirostat_tau=None, num_ctx=None, num_gpu=None, num_thread=None, repeat_last_n=None, repeat_penalty=None, temperature=None, stop=None, tfs_z=None, top_k=None, top_p=None, show_progress=False, headers=None, model_kwargs=None)"
      ]
     },
     "execution_count": 111,
     "metadata": {},
     "output_type": "execute_result"
    }
   ],
   "source": [
    "from langchain_community.embeddings import OllamaEmbeddings\n",
    "\n",
    "embeddings = OllamaEmbeddings(model=\"llama3\")\n",
    "embeddings"
   ]
  },
  {
   "cell_type": "code",
   "execution_count": 112,
   "metadata": {},
   "outputs": [],
   "source": [
    "from langchain_community.vectorstores import FAISS\n",
    "\n",
    "db = FAISS.from_documents(final_docs, embeddings)"
   ]
  },
  {
   "cell_type": "code",
   "execution_count": 113,
   "metadata": {},
   "outputs": [
    {
     "data": {
      "text/plain": [
       "<langchain_community.vectorstores.faiss.FAISS at 0x2046d86bfd0>"
      ]
     },
     "execution_count": 113,
     "metadata": {},
     "output_type": "execute_result"
    }
   ],
   "source": [
    "db"
   ]
  },
  {
   "cell_type": "code",
   "execution_count": 124,
   "metadata": {},
   "outputs": [],
   "source": [
    "query = \" While brainstorming ideas, Atharva came up with a fresh and highly advanced suggestion. He suggested that we could implement the Bayesian Search Theory for a practical purpose such as searching for a lost object in a water body.\"\n",
    "result = db.similarity_search_with_score(query)"
   ]
  },
  {
   "cell_type": "code",
   "execution_count": 125,
   "metadata": {},
   "outputs": [
    {
     "data": {
      "text/plain": [
       "[(Document(metadata={'source': 'https://medium.com/@manan.kher22/the-highs-and-lows-of-building-a-computer-engineering-project-12ba7a07bb36', 'title': 'The Highs and Lows of Building a Computer Engineering Project | by Manan Kher | Medium', 'description': 'Have you ever built a project for your computer engineering major? If yes, how was your experience? It must have likely been a thrilling journey, filled with emotions of joy, excitement and…', 'language': 'en'}, page_content='the map and ensuring that the markers and flight path were accurately displayed. Debugging the map integration took considerable time, but her persistence paid off.Our website’s home pageThe Service PageAfter entering the relevant dataAtharva focused on the automation and core algorithms. The website uses Selenium in the background to automate downloading ocean depth data from the GEBCO website.'),\n",
       "  16351.34),\n",
       " (Document(metadata={'source': 'https://medium.com/@manan.kher22/the-highs-and-lows-of-building-a-computer-engineering-project-12ba7a07bb36', 'title': 'The Highs and Lows of Building a Computer Engineering Project | by Manan Kher | Medium', 'description': 'Have you ever built a project for your computer engineering major? If yes, how was your experience? It must have likely been a thrilling journey, filled with emotions of joy, excitement and…', 'language': 'en'}, page_content='a topic of our project that would be innovative and out of the box, and provide us the chance to showcase our technical proficiency. While brainstorming ideas, Atharva came up with a fresh and highly advanced suggestion. He suggested that we could implement the Bayesian Search Theory for a practical purpose such as searching for a lost object in a water body. We finalized this topic and decided'),\n",
       "  19188.7),\n",
       " (Document(metadata={'source': 'https://medium.com/@manan.kher22/the-highs-and-lows-of-building-a-computer-engineering-project-12ba7a07bb36', 'title': 'The Highs and Lows of Building a Computer Engineering Project | by Manan Kher | Medium', 'description': 'Have you ever built a project for your computer engineering major? If yes, how was your experience? It must have likely been a thrilling journey, filled with emotions of joy, excitement and…', 'language': 'en'}, page_content='The Highs and Lows of Building a Computer Engineering Project | by Manan Kher | MediumOpen in appSign upSign inWriteSign upSign inThe Highs and Lows of Building a Computer Engineering ProjectManan Kher·Follow8 min read·May 15, 2024--1ListenShareHave you ever built a project for your computer engineering major? If yes, how was your experience? It must have likely been a thrilling journey, filled'),\n",
       "  24274.027),\n",
       " (Document(metadata={'source': 'https://medium.com/@manan.kher22/the-highs-and-lows-of-building-a-computer-engineering-project-12ba7a07bb36', 'title': 'The Highs and Lows of Building a Computer Engineering Project | by Manan Kher | Medium', 'description': 'Have you ever built a project for your computer engineering major? If yes, how was your experience? It must have likely been a thrilling journey, filled with emotions of joy, excitement and…', 'language': 'en'}, page_content='website with Selenium posed significant challenges. Atharva’s persistence in resolving these issues was commendable.In conclusion, completing this project was a rollercoaster of emotions and a fantastic learning experience. From understanding complex theories to implementing a functional simulation, we faced numerous challenges but gained invaluable knowledge and skills. As Thomas Edison famously'),\n",
       "  31206.984)]"
      ]
     },
     "execution_count": 125,
     "metadata": {},
     "output_type": "execute_result"
    }
   ],
   "source": [
    "result"
   ]
  },
  {
   "cell_type": "code",
   "execution_count": 126,
   "metadata": {},
   "outputs": [
    {
     "data": {
      "text/plain": [
       "Ollama(model='llama3')"
      ]
     },
     "execution_count": 126,
     "metadata": {},
     "output_type": "execute_result"
    }
   ],
   "source": [
    "from langchain_community.llms import Ollama\n",
    "\n",
    "llm = Ollama(model=\"llama3\")\n",
    "llm"
   ]
  },
  {
   "cell_type": "code",
   "execution_count": 86,
   "metadata": {},
   "outputs": [
    {
     "data": {
      "text/plain": [
       "'A historic moment!\\n\\nThe first person to set foot on the Moon was Neil Armstrong, an American astronaut and commander of the Apollo 11 mission. On July 20, 1969, Armstrong stepped out of the lunar module Eagle and onto the Moon\\'s surface at 2:56 UTC (Coordinated Universal Time). He famously declared, \"That\\'s one small step for man, one giant leap for mankind\" as he took his first steps.\\n\\nArmstrong was joined on the mission by fellow astronauts Edwin \"Buzz\" Aldrin and Michael Collins. The Apollo 11 spacecraft carried the three astronauts into lunar orbit, where they prepared to land on the Moon\\'s surface.\\n\\nThe successful landing marked a historic achievement in space exploration, marking the first time humans had visited another celestial body. Armstrong\\'s footprints remained on the Moon\\'s surface for over 50 years until NASA\\'s Lunar Reconnaissance Orbiter captured new images of the site in 2019.\\n\\nArmstrong\\'s remarkable feat will always be remembered as a pivotal moment in human history, inspiring generations to pursue careers in science, technology, engineering, and mathematics (STEM).'"
      ]
     },
     "execution_count": 86,
     "metadata": {},
     "output_type": "execute_result"
    }
   ],
   "source": [
    "llm.invoke(\"First man to land on moon\")"
   ]
  },
  {
   "cell_type": "code",
   "execution_count": 132,
   "metadata": {},
   "outputs": [
    {
     "data": {
      "text/plain": [
       "RunnableBinding(bound=RunnableBinding(bound=RunnableAssign(mapper={\n",
       "  context: RunnableLambda(format_docs)\n",
       "}), config={'run_name': 'format_inputs'})\n",
       "| ChatPromptTemplate(input_variables=['context'], messages=[HumanMessagePromptTemplate(prompt=PromptTemplate(input_variables=['context'], template='\\nAnswer the question asked by the user based only on the provided context:\\n<context>\\n{context}\\n</context>\\n\\n'))])\n",
       "| Ollama(model='llama3')\n",
       "| StrOutputParser(), config={'run_name': 'stuff_documents_chain'})"
      ]
     },
     "execution_count": 132,
     "metadata": {},
     "output_type": "execute_result"
    }
   ],
   "source": [
    "from langchain.chains.combine_documents import create_stuff_documents_chain\n",
    "from langchain_core.prompts import ChatPromptTemplate\n",
    "\n",
    "prompt = ChatPromptTemplate.from_template(\n",
    "    \"\"\"\n",
    "Answer the question asked by the user based only on the provided context:\n",
    "<context>\n",
    "{context}\n",
    "</context>\n",
    "\n",
    "\"\"\"\n",
    ")\n",
    "\n",
    "document_chain = create_stuff_documents_chain(llm, prompt)\n",
    "document_chain"
   ]
  },
  {
   "cell_type": "code",
   "execution_count": 133,
   "metadata": {},
   "outputs": [
    {
     "data": {
      "text/plain": [
       "VectorStoreRetriever(tags=['FAISS', 'OllamaEmbeddings'], vectorstore=<langchain_community.vectorstores.faiss.FAISS object at 0x000002046D86BFD0>)"
      ]
     },
     "execution_count": 133,
     "metadata": {},
     "output_type": "execute_result"
    }
   ],
   "source": [
    "retriever = db.as_retriever()\n",
    "retriever"
   ]
  },
  {
   "cell_type": "code",
   "execution_count": 135,
   "metadata": {},
   "outputs": [
    {
     "data": {
      "text/plain": [
       "RunnableBinding(bound=RunnableAssign(mapper={\n",
       "  context: RunnableBinding(bound=RunnableLambda(lambda x: x['input'])\n",
       "           | VectorStoreRetriever(tags=['FAISS', 'OllamaEmbeddings'], vectorstore=<langchain_community.vectorstores.faiss.FAISS object at 0x000002046D86BFD0>), config={'run_name': 'retrieve_documents'})\n",
       "})\n",
       "| RunnableAssign(mapper={\n",
       "    answer: RunnableBinding(bound=RunnableBinding(bound=RunnableAssign(mapper={\n",
       "              context: RunnableLambda(format_docs)\n",
       "            }), config={'run_name': 'format_inputs'})\n",
       "            | ChatPromptTemplate(input_variables=['context'], messages=[HumanMessagePromptTemplate(prompt=PromptTemplate(input_variables=['context'], template='\\nAnswer the question asked by the user based only on the provided context:\\n<context>\\n{context}\\n</context>\\n\\n'))])\n",
       "            | Ollama(model='llama3')\n",
       "            | StrOutputParser(), config={'run_name': 'stuff_documents_chain'})\n",
       "  }), config={'run_name': 'retrieval_chain'})"
      ]
     },
     "execution_count": 135,
     "metadata": {},
     "output_type": "execute_result"
    }
   ],
   "source": [
    "from langchain.chains import create_retrieval_chain\n",
    "\n",
    "retrieval_chain = create_retrieval_chain(retriever, document_chain)\n",
    "retrieval_chain"
   ]
  },
  {
   "cell_type": "code",
   "execution_count": 137,
   "metadata": {},
   "outputs": [
    {
     "data": {
      "text/plain": [
       "{'input': 'What is the title of the project?',\n",
       " 'context': [Document(metadata={'source': 'https://medium.com/@manan.kher22/the-highs-and-lows-of-building-a-computer-engineering-project-12ba7a07bb36', 'title': 'The Highs and Lows of Building a Computer Engineering Project | by Manan Kher | Medium', 'description': 'Have you ever built a project for your computer engineering major? If yes, how was your experience? It must have likely been a thrilling journey, filled with emotions of joy, excitement and…', 'language': 'en'}, page_content='the map and ensuring that the markers and flight path were accurately displayed. Debugging the map integration took considerable time, but her persistence paid off.Our website’s home pageThe Service PageAfter entering the relevant dataAtharva focused on the automation and core algorithms. The website uses Selenium in the background to automate downloading ocean depth data from the GEBCO website.'),\n",
       "  Document(metadata={'source': 'https://medium.com/@manan.kher22/the-highs-and-lows-of-building-a-computer-engineering-project-12ba7a07bb36', 'title': 'The Highs and Lows of Building a Computer Engineering Project | by Manan Kher | Medium', 'description': 'Have you ever built a project for your computer engineering major? If yes, how was your experience? It must have likely been a thrilling journey, filled with emotions of joy, excitement and…', 'language': 'en'}, page_content='a topic of our project that would be innovative and out of the box, and provide us the chance to showcase our technical proficiency. While brainstorming ideas, Atharva came up with a fresh and highly advanced suggestion. He suggested that we could implement the Bayesian Search Theory for a practical purpose such as searching for a lost object in a water body. We finalized this topic and decided'),\n",
       "  Document(metadata={'source': 'https://medium.com/@manan.kher22/the-highs-and-lows-of-building-a-computer-engineering-project-12ba7a07bb36', 'title': 'The Highs and Lows of Building a Computer Engineering Project | by Manan Kher | Medium', 'description': 'Have you ever built a project for your computer engineering major? If yes, how was your experience? It must have likely been a thrilling journey, filled with emotions of joy, excitement and…', 'language': 'en'}, page_content='The Highs and Lows of Building a Computer Engineering Project | by Manan Kher | MediumOpen in appSign upSign inWriteSign upSign inThe Highs and Lows of Building a Computer Engineering ProjectManan Kher·Follow8 min read·May 15, 2024--1ListenShareHave you ever built a project for your computer engineering major? If yes, how was your experience? It must have likely been a thrilling journey, filled'),\n",
       "  Document(metadata={'source': 'https://medium.com/@manan.kher22/the-highs-and-lows-of-building-a-computer-engineering-project-12ba7a07bb36', 'title': 'The Highs and Lows of Building a Computer Engineering Project | by Manan Kher | Medium', 'description': 'Have you ever built a project for your computer engineering major? If yes, how was your experience? It must have likely been a thrilling journey, filled with emotions of joy, excitement and…', 'language': 'en'}, page_content='a stepping stone to success.Happy coding!Computer EngineeringInnovationBayesian StatisticsAlgorithmsMachine Learning----1FollowWritten by Manan Kher1 FollowerFollowHelpStatusAboutCareersPressBlogPrivacyTermsText to speechTeams')],\n",
       " 'answer': 'The topic of the computer engineering project was searching for a lost object in a water body using Bayesian Search Theory.'}"
      ]
     },
     "execution_count": 137,
     "metadata": {},
     "output_type": "execute_result"
    }
   ],
   "source": [
    "retrieval_chain.invoke({\"input\":\"What is the title of the project?\"})"
   ]
  },
  {
   "cell_type": "code",
   "execution_count": 143,
   "metadata": {},
   "outputs": [],
   "source": []
  },
  {
   "cell_type": "code",
   "execution_count": 147,
   "metadata": {},
   "outputs": [
    {
     "data": {
      "text/plain": [
       "VectorStoreRetriever(tags=['FAISS', 'OllamaEmbeddings'], vectorstore=<langchain_community.vectorstores.faiss.FAISS object at 0x000002046D86BFD0>)\n",
       "| ChatPromptTemplate(input_variables=['context'], messages=[HumanMessagePromptTemplate(prompt=PromptTemplate(input_variables=['context'], template='\\nAnswer the question asked by the user based only on the provided context:\\n<context>\\n{context}\\n</context>\\n\\n'))])\n",
       "| Ollama(model='llama3')\n",
       "| StrOutputParser()"
      ]
     },
     "execution_count": 147,
     "metadata": {},
     "output_type": "execute_result"
    }
   ],
   "source": [
    "from langchain_core.output_parsers import StrOutputParser\n",
    "\n",
    "output_parser = StrOutputParser()\n",
    "\n",
    "chain = retriever|prompt|llm|output_parser\n",
    "\n",
    "chain"
   ]
  },
  {
   "cell_type": "code",
   "execution_count": 148,
   "metadata": {},
   "outputs": [
    {
     "data": {
      "text/plain": [
       "'The question being asked based on the provided context is:\\n\\n*None*\\n\\nThere is no specific question asked in the given context. However, some possible questions that can be inferred from the text are:\\n\\n* How was your experience building a computer engineering project?\\n* What were the highs and lows of building a computer engineering project?'"
      ]
     },
     "execution_count": 148,
     "metadata": {},
     "output_type": "execute_result"
    }
   ],
   "source": [
    "chain.invoke({\"input\":\"What is the title of the project?\"})"
   ]
  }
 ],
 "metadata": {
  "kernelspec": {
   "display_name": "Python 3",
   "language": "python",
   "name": "python3"
  },
  "language_info": {
   "codemirror_mode": {
    "name": "ipython",
    "version": 3
   },
   "file_extension": ".py",
   "mimetype": "text/x-python",
   "name": "python",
   "nbconvert_exporter": "python",
   "pygments_lexer": "ipython3",
   "version": "3.10.0"
  }
 },
 "nbformat": 4,
 "nbformat_minor": 2
}
